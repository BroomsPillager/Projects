{
 "cells": [
  {
   "cell_type": "markdown",
   "metadata": {},
   "source": [
    "## EXAMEN DE ELECTRÓNICA DE POTENCIA\n",
    "\n",
    "<br>\n",
    "Curso 3<br>\n",
    "Grado Ingenieria Electrónica Industrial y automática<br>\n",
    "Curso 2021-2022<br>\n",
    "\n",
    "EPI_GIJON<br>\n",
    "Viernes 20 de Mayo de 2022\n"
   ]
  },
  {
   "cell_type": "code",
   "execution_count": 1,
   "metadata": {},
   "outputs": [],
   "source": [
    "%matplotlib inline\n",
    "import numpy as np\n",
    "import matplotlib.pyplot as plt\n",
    "import cmath\n",
    "import math"
   ]
  },
  {
   "cell_type": "markdown",
   "metadata": {},
   "source": [
    "<u>Pregunta 1:</u>\n",
    "\n",
    "Calcular el valor de la inductancia L para que el inversor monofásico de enlace a red (GTI)<br> pueda inyectar a la red eléctrica una potencia máxima de 5 kW con factor de potencia unidad.\n",
    "\n",
    "<img src=\"fig1.png\" style=\"width:400px;height:300px\" align=\"left\"/>"
   ]
  },
  {
   "cell_type": "code",
   "execution_count": 1,
   "metadata": {},
   "outputs": [
    {
     "name": "stdout",
     "output_type": "stream",
     "text": [
      "La VL_eff vale 164.621 V\n"
     ]
    },
    {
     "ename": "NameError",
     "evalue": "name 'np' is not defined",
     "output_type": "error",
     "traceback": [
      "\u001b[1;31m---------------------------------------------------------------------------\u001b[0m",
      "\u001b[1;31mNameError\u001b[0m                                 Traceback (most recent call last)",
      "\u001b[1;32m<ipython-input-1-5877626961d7>\u001b[0m in \u001b[0;36m<module>\u001b[1;34m\u001b[0m\n\u001b[0;32m      5\u001b[0m \u001b[0mVL\u001b[0m\u001b[1;33m=\u001b[0m\u001b[1;33m(\u001b[0m\u001b[1;33m(\u001b[0m\u001b[1;36m400\u001b[0m\u001b[1;33m/\u001b[0m\u001b[1;36m2\u001b[0m\u001b[1;33m**\u001b[0m\u001b[1;36m0.5\u001b[0m\u001b[1;33m)\u001b[0m\u001b[1;33m**\u001b[0m\u001b[1;36m2\u001b[0m\u001b[1;33m-\u001b[0m\u001b[1;36m230\u001b[0m\u001b[1;33m**\u001b[0m\u001b[1;36m2\u001b[0m\u001b[1;33m)\u001b[0m\u001b[1;33m**\u001b[0m\u001b[1;36m0.5\u001b[0m\u001b[1;33m\u001b[0m\u001b[1;33m\u001b[0m\u001b[0m\n\u001b[0;32m      6\u001b[0m \u001b[0mprint\u001b[0m \u001b[1;33m(\u001b[0m\u001b[1;34m\"La VL_eff vale \"\u001b[0m\u001b[1;33m+\u001b[0m\u001b[1;34m\"{0:.3f}\"\u001b[0m\u001b[1;33m.\u001b[0m\u001b[0mformat\u001b[0m\u001b[1;33m(\u001b[0m\u001b[0mVL\u001b[0m\u001b[1;33m)\u001b[0m\u001b[1;33m+\u001b[0m\u001b[1;34m\" V\"\u001b[0m\u001b[1;33m)\u001b[0m\u001b[1;33m\u001b[0m\u001b[1;33m\u001b[0m\u001b[0m\n\u001b[1;32m----> 7\u001b[1;33m \u001b[0mL\u001b[0m\u001b[1;33m=\u001b[0m\u001b[0mVred\u001b[0m\u001b[1;33m*\u001b[0m\u001b[0mVL\u001b[0m\u001b[1;33m/\u001b[0m\u001b[1;33m(\u001b[0m\u001b[0mPot\u001b[0m\u001b[1;33m*\u001b[0m\u001b[1;36m2\u001b[0m\u001b[1;33m*\u001b[0m\u001b[0mnp\u001b[0m\u001b[1;33m.\u001b[0m\u001b[0mpi\u001b[0m\u001b[1;33m*\u001b[0m\u001b[1;36m50\u001b[0m\u001b[1;33m)\u001b[0m\u001b[1;33m\u001b[0m\u001b[1;33m\u001b[0m\u001b[0m\n\u001b[0m\u001b[0;32m      8\u001b[0m \u001b[0mprint\u001b[0m \u001b[1;33m(\u001b[0m\u001b[1;34m\"La inductancia L vale \"\u001b[0m\u001b[1;33m+\u001b[0m\u001b[1;34m\"{0:.3f}\"\u001b[0m\u001b[1;33m.\u001b[0m\u001b[0mformat\u001b[0m\u001b[1;33m(\u001b[0m\u001b[0mL\u001b[0m\u001b[1;33m/\u001b[0m\u001b[1;36m1e-3\u001b[0m\u001b[1;33m)\u001b[0m\u001b[1;33m+\u001b[0m\u001b[1;34m\" mH\"\u001b[0m\u001b[1;33m)\u001b[0m\u001b[1;33m\u001b[0m\u001b[1;33m\u001b[0m\u001b[0m\n",
      "\u001b[1;31mNameError\u001b[0m: name 'np' is not defined"
     ]
    }
   ],
   "source": [
    "#Solucion P1\n",
    "Vred=230\n",
    "Vbus=400\n",
    "Pot=5000\n",
    "VL=((400/2**0.5)**2-230**2)**0.5\n",
    "print (\"La VL_eff vale \"+\"{0:.3f}\".format(VL)+\" V\")\n",
    "L=Vred*VL/(Pot*2*np.pi*50)\n",
    "print (\"La inductancia L vale \"+\"{0:.3f}\".format(L/1e-3)+\" mH\")"
   ]
  },
  {
   "cell_type": "markdown",
   "metadata": {},
   "source": [
    "<u>Pregunta 2:</u>\n",
    "    \n",
    "Calcular el valor de L que hace trabajar al convertidor CC-CC <br>\n",
    "de la figura en la frontera entre el modo continuo (CCM) y el discontinuo (DCM).\n",
    "\n",
    "<img src=\"fig2.png\" style=\"width:300px;height:200px\" align=\"left\"/>"
   ]
  },
  {
   "cell_type": "code",
   "execution_count": 3,
   "metadata": {},
   "outputs": [
    {
     "name": "stdout",
     "output_type": "stream",
     "text": [
      "La Vs vale 12.0 V\n",
      "La Is vale 1.0 A\n",
      "La Imax vale 4.0 A\n",
      "La L vale 75.0 uH\n"
     ]
    }
   ],
   "source": [
    "#Solución P2\n",
    "Ve=12\n",
    "Fs=20e+3\n",
    "R=12\n",
    "d=0.5\n",
    "Vs=Ve*d/(1-d)\n",
    "print (\"La Vs vale \"+\"{0:.1f}\".format(Vs)+\" V\")\n",
    "Is=Vs/R\n",
    "print (\"La Is vale \"+\"{0:.1f}\".format(Is)+\" A\")\n",
    "Imax=2*Is/(1-d)\n",
    "print (\"La Imax vale \"+\"{0:.1f}\".format(Imax)+\" A\")\n",
    "L=Ve*d/(Imax*Fs)\n",
    "print (\"La L vale \"+\"{0:.1f}\".format(L/1e-6)+\" uH\")"
   ]
  },
  {
   "cell_type": "markdown",
   "metadata": {},
   "source": [
    "<u>Pregunta 3:</u>\n",
    "    \n",
    "Para el convertidor cc-cc en puente completo de la figura, <br>\n",
    "que trabaja en modo conducción continuo, se pide: <br>\n",
    "(a) El valor mínimo de N1 que asegura que el núcleo no se satura<br>\n",
    "(b) La tensión de salida Vs\n",
    "\n",
    "DATOS:<br>\n",
    "Bmax = 300 mT<br>\n",
    "Ae = 25 $ mm^2 $<br>\n",
    "Fs = 20 kHz<br>\n",
    "d = 1\n",
    "\n",
    "<img src=\"fig3.png\" style=\"width:500px;height:300px\" align=\"left\"/>"
   ]
  },
  {
   "cell_type": "code",
   "execution_count": 4,
   "metadata": {},
   "outputs": [
    {
     "name": "stdout",
     "output_type": "stream",
     "text": [
      "La Vs vale 144.0 V\n",
      "La N1 mínima vale 40.0 vueltas\n"
     ]
    }
   ],
   "source": [
    "#Solución P3\n",
    "Ve=24\n",
    "d=1\n",
    "Fs=20e+3\n",
    "Bmax=300e-3\n",
    "Ae=25e-6\n",
    "# n es N2/N1\n",
    "n=6\n",
    "Vs=Ve*d*n\n",
    "print (\"La Vs vale \"+\"{0:.1f}\".format(Vs)+\" V\")\n",
    "N1=Ve/(4*Fs*Bmax*Ae)\n",
    "print (\"La N1 mínima vale \"+\"{0:.1f}\".format(N1)+\" vueltas\")"
   ]
  },
  {
   "cell_type": "markdown",
   "metadata": {},
   "source": [
    "<u>Pregunta 4:</u>\n",
    "    \n",
    "Los inversores en puente H del convertidor DAB de la figura trabajan <br>\n",
    "con ciclo del trabajo del 100% (d = 1) y a una frecuencia de 20 kHz.<br>\n",
    "El inversor de bus genera la señal retrasada 60º respecto a la del inversor de bateria.\n",
    "\n",
    "Se pide:<br>\n",
    "(1) ¿Se está cargando o descargando la batería?<br>\n",
    "(2) ¿Con qué potencia?<br><br>\n",
    "NOTA: hacer los cálculos solo con la componente fundamental.\n",
    "\n",
    "<img src=\"fig4.png\" style=\"width:600px;height:300px\" align=\"left\"/>"
   ]
  },
  {
   "cell_type": "code",
   "execution_count": 5,
   "metadata": {},
   "outputs": [
    {
     "name": "stdout",
     "output_type": "stream",
     "text": [
      "El ángulo fi vale 60.0 grados\n",
      "Estamos pues sobre la linea óptima\n",
      "Al generar en retraso, estamos extrayendo energía de la batería\n",
      "La L equivalente (Lx) vale 77.122 uH\n",
      "La componente fundamental de la corriente en la bobina tiene un valor máximo de 2.731 A\n",
      "Extraemos de la batería una potencia de 20.861 W\n"
     ]
    }
   ],
   "source": [
    "#Solución P4\n",
    "L1=80e-6\n",
    "C1=22e-6\n",
    "Fs=20e+3\n",
    "Ve=24\n",
    "Vs=12\n",
    "#Primeros armónicos\n",
    "Ve1=4*Ve/np.pi\n",
    "Vs1=4*Vs/np.pi\n",
    "#Comprobación estamos sobre línea óptima\n",
    "fi_grados=math.acos(Vs1/Ve1)*180/np.pi\n",
    "print (\"El ángulo fi vale \"+\"{0:.1f}\".format(fi_grados)+\" grados\")\n",
    "print (\"Estamos pues sobre la linea óptima\")\n",
    "print (\"Al generar en retraso, estamos extrayendo energía de la batería\")\n",
    "# Cálculo de la L equivalente\n",
    "Lx=(2*np.pi*Fs*L1-1/(2*np.pi*Fs*C1))/(2*np.pi*Fs)\n",
    "print (\"La L equivalente (Lx) vale \"+\"{0:.3f}\".format(Lx/1e-6)+\" uH\")\n",
    "#Corrientes y tensiones (con fundamental)\n",
    "VL=(Ve1**2-Vs1**2)**0.5\n",
    "IL=VL/(2*np.pi*Fs*Lx)\n",
    "print (\"La componente fundamental de la corriente en la bobina tiene un valor máximo de \"+\"{0:.3f}\".format(IL)+\" A\")\n",
    "#La potencia extraida de la bateria es entonces:\n",
    "P=Vs1*IL/2\n",
    "print (\"Extraemos de la batería una potencia de \"+\"{0:.3f}\".format(P)+\" W\")"
   ]
  },
  {
   "cell_type": "markdown",
   "metadata": {},
   "source": [
    "<u>Pregunta 5:</u>\n",
    "    \n",
    "El convertidor Flyback de la figura se considera ideal <br>\n",
    "y está diseñado para trabajar en modo conducción continuo.<br>\n",
    "Trabaja con ciclo de trabajo constante del 50% (d = 0.5)\n",
    "<br>\n",
    "Se pide: <br>\n",
    "(1) Valor de la tensión de salida (Vs)<br>\n",
    "(2) Esfuerzos de tensión en todos los semiconductores (D1 y T1)\n",
    "\n",
    "<img src=\"fig5.png\" style=\"width:400px;height:300px\" align=\"left\"/>"
   ]
  },
  {
   "cell_type": "code",
   "execution_count": 6,
   "metadata": {},
   "outputs": [
    {
     "name": "stdout",
     "output_type": "stream",
     "text": [
      "La Vs vale 120.0 V\n",
      "El diodo debe soportar 240.0 V\n",
      "El Mosfet debe soportar 24.0 V\n"
     ]
    }
   ],
   "source": [
    "#Solución P5\n",
    "n=10\n",
    "d=0.5\n",
    "Ve=12\n",
    "Vs=n*Ve*d/(1-d)\n",
    "print (\"La Vs vale \"+\"{0:.1f}\".format(Vs)+\" V\")\n",
    "Vd1_max=Vs+n*Ve\n",
    "print (\"El diodo debe soportar \"+\"{0:.1f}\".format(Vd1_max)+\" V\")\n",
    "Vt1_max=Vs/n+Ve\n",
    "print (\"El Mosfet debe soportar \"+\"{0:.1f}\".format(Vt1_max)+\" V\")"
   ]
  },
  {
   "cell_type": "markdown",
   "metadata": {},
   "source": [
    "<u>Pregunta 6:</u>\n",
    "    \n",
    "Para el convertidor CC-CC tipo elevador de la figura se pide:<br>\n",
    "<br>\n",
    "Se pide: <br>\n",
    "(1) Valor necesario del ciclo de trabajo (d)<br>\n",
    "(2) Valor del condensador de salida (Cs) para un rizado del 1%\n",
    "\n",
    "<img src=\"fig6.png\" style=\"width:500px;height:300px\" align=\"left\"/>"
   ]
  },
  {
   "cell_type": "code",
   "execution_count": 7,
   "metadata": {},
   "outputs": [
    {
     "name": "stdout",
     "output_type": "stream",
     "text": [
      "La tensión Vs es de 30.0 V\n",
      "La corriente Is es de 6.0 V\n",
      "El ciclo de trabajo (d) es de 0.60 p.u.\n",
      "El condensador de salida (Cs) debe ser mayor de 600.00 uF\n"
     ]
    }
   ],
   "source": [
    "#Solución P6\n",
    "Fs=20e+3\n",
    "Ps=180\n",
    "RL=5\n",
    "Vs=(Ps*RL)**0.5\n",
    "print (\"La tensión Vs es de \"+\"{0:.1f}\".format(Vs)+\" V\")\n",
    "Is=Ps/Vs\n",
    "print (\"La corriente Is es de \"+\"{0:.1f}\".format(Is)+\" V\")\n",
    "d=1-Ve/Vs\n",
    "print (\"El ciclo de trabajo (d) es de \"+\"{0:.2f}\".format(d)+\" p.u.\")\n",
    "#Calculo del delta_Q\n",
    "delta_Q=Is*d/Fs\n",
    "rizado_Vs=Vs/100\n",
    "Cs=delta_Q/rizado_Vs\n",
    "print (\"El condensador de salida (Cs) debe ser mayor de \"+\"{0:.2f}\".format(Cs/1e-6)+\" uF\")"
   ]
  },
  {
   "cell_type": "markdown",
   "metadata": {},
   "source": [
    "<u>Pregunta 7:</u>\n",
    "    \n",
    "Proponer un sistema de generación de señal de control para un convertidor CC-CC<br>\n",
    "tipo Push-Pull y particularizar los valores para una frecuencia de conmutación (Fs)<br>\n",
    "de 20 KHz con ciclo de trabajo del 30% (d=0.3)"
   ]
  },
  {
   "cell_type": "markdown",
   "metadata": {},
   "source": [
    "Solución P7<br>\n",
    "\n",
    "Se debe generar una triagular entre +1 y -1 con ciclo de trabajo 50% y de la frecuencia de conmutación (Fs = 20 KHz).<br>\n",
    "Los niveles de comparación son +(1-d) para un transistor y -(1-d) para el otro. Ver figura.\n",
    "\n",
    "<img src=\"fig7.png\" style=\"width:400px;height:700px\" align=\"left\"/>\n"
   ]
  },
  {
   "cell_type": "markdown",
   "metadata": {},
   "source": [
    "<u>Pregunta 8:</u>\n",
    "    \n",
    "Se desea implementar un sistema de seguimiento del punto de máxima potencia (MPPT)<br>\n",
    "para el panel solar de la figura utilizando un convertidor CC-CC tipo Flyback. <br>\n",
    "La energía obtenida se entregará a una batería de 12 V que se supone estable.<br>\n",
    "<br>\n",
    "Se pide:<br>\n",
    "Valores razonados de inductancia magnetizante del transformador (Lm),<br>\n",
    "relación de espiras del transformador (n) y ciclo de trabajo (d) para <br>\n",
    "que el convertidor Flyback trabaje en el punto de máxima potencia (MPP)<br>\n",
    "en modo conducción continuo para una irradiacia fija de 1000 W/$ m^2$\n",
    "\n",
    "<img src=\"fig8.png\" style=\"width:400px;height:700px\" align=\"left\"/>\n"
   ]
  },
  {
   "cell_type": "code",
   "execution_count": 8,
   "metadata": {},
   "outputs": [
    {
     "name": "stdout",
     "output_type": "stream",
     "text": [
      "Una buena estrategia podría ser seleccionar la relación de espiras para tener d=0.5\n",
      "Para ello necesitamos una relación de espiras n de 8.0 p.u.\n",
      "La Lm sirve cualquier valor que asegure el modo de conducción continuo\n",
      "La potencia del panel es de 100.0 W\n",
      "La corriente de salida es de 8.3 A\n",
      "La inductancia frontera CCM-DCM es 575.8 uH\n"
     ]
    }
   ],
   "source": [
    "# Solución P8\n",
    "print(\"Una buena estrategia podría ser seleccionar la relación de espiras para tener d=0.5\")\n",
    "Ve_mpp=96\n",
    "Ie_mpp=1.042\n",
    "Vs=12\n",
    "d=0.5\n",
    "n=(Ve_mpp*d)/(Vs*(1-d))\n",
    "print (\"Para ello necesitamos una relación de espiras n de \"+\"{0:.1f}\".format(n)+\" p.u.\")\n",
    "print(\"La Lm sirve cualquier valor que asegure el modo de conducción continuo\")\n",
    "P=Ve_mpp*Ie_mpp\n",
    "print (\"La potencia del panel es de \"+\"{0:.1f}\".format(P)+\" W\")\n",
    "Is=P/Vs\n",
    "print (\"La corriente de salida es de \"+\"{0:.1f}\".format(Is)+\" A\")\n",
    "Lcri=Ve_mpp*(1-d)*d*n/(Fs*2*Is)\n",
    "print (\"La inductancia frontera CCM-DCM es \"+\"{0:.1f}\".format(Lcri/1e-6)+\" uH\")"
   ]
  },
  {
   "cell_type": "markdown",
   "metadata": {},
   "source": [
    "<u>Pregunta 9:</u>\n",
    "    \n",
    "Explicar la técnica del \"condensador flotante\" (Bootstrap) <br>\n",
    "aplicada al gobierno de la rama de transistores Mosfet mostrada en la figura.<br>\n",
    "Comentar los esfuerzos de tensión que deben de soportar los semiconductores adicionales <br>\n",
    "que sea preciso incorporar para implementar la técnica.\n",
    "\n",
    "<img src=\"fig9.png\" style=\"width:200px;height:250px\" align=\"left\"/>\n"
   ]
  },
  {
   "cell_type": "markdown",
   "metadata": {},
   "source": [
    "Solución P9<br>\n",
    "<br>\n",
    "Con ayuda de un diodo (diodo de Boot) y un condensador (condensador de boot)<br>\n",
    "y aprovechando las conmutaciones de la rama (en concreto del T1L) <br>\n",
    "se carga el condensador de Boot, generando una fuente de alimentación flotante <br>\n",
    "a partir de la referida a masa.\n",
    "\n",
    "Ojo, al diodo de Boot que debe soportar las tensión del bus<br>\n",
    "en este caso 800 V\n",
    "\n",
    "<img src=\"fig9b.png\" style=\"width:200px;height:250px\" align=\"left\"/>\n"
   ]
  },
  {
   "cell_type": "markdown",
   "metadata": {},
   "source": [
    "<u>Pregunta 10:</u>\n",
    "    \n",
    "Un semiconductor debe disipar una determinada potencia y para ello<br>se le coloca un disipador térmico, de acuerdo al modelo representado en la figura.<br>\n",
    "\n",
    "\n",
    "Se mide la temperatura en la capsula (Tc) obteniendo un valor de $100^o C$\n",
    "\n",
    "Se pide: <br>\n",
    "\n",
    "(1) Temperatura de trabajo en la unión (Tj) <br>\n",
    "(2) Pérdidas en el semiconductor (P) en ese momento.\n",
    "\n",
    "<img src=\"fig10.png\" style=\"width:400px;height:200px\" align=\"left\"/>\n"
   ]
  },
  {
   "cell_type": "code",
   "execution_count": 9,
   "metadata": {},
   "outputs": [
    {
     "name": "stdout",
     "output_type": "stream",
     "text": [
      "El semiconductor tiene unas pérdidas de 14.706 W\n",
      "La unión (Tj) se pone a 173.529 grados centigrados\n"
     ]
    }
   ],
   "source": [
    "#Solución P10\n",
    "Rjc=5\n",
    "Rch=0.1\n",
    "Rha=5\n",
    "Ta=25\n",
    "Tc=100\n",
    "P=(Tc-Ta)/(Rch+Rha)\n",
    "print (\"El semiconductor tiene unas pérdidas de \"+\"{0:.3f}\".format(P)+\" W\")\n",
    "Tj=Tc+Rjc*P\n",
    "print (\"La unión (Tj) se pone a \"+\"{0:.3f}\".format(Tj)+\" grados centigrados\")"
   ]
  }
 ],
 "metadata": {
  "kernelspec": {
   "display_name": "Python 3",
   "language": "python",
   "name": "python3"
  },
  "language_info": {
   "codemirror_mode": {
    "name": "ipython",
    "version": 3
   },
   "file_extension": ".py",
   "mimetype": "text/x-python",
   "name": "python",
   "nbconvert_exporter": "python",
   "pygments_lexer": "ipython3",
   "version": "3.8.5"
  }
 },
 "nbformat": 4,
 "nbformat_minor": 4
}
